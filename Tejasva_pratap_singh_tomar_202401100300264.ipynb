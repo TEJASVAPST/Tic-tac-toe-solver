{
  "nbformat": 4,
  "nbformat_minor": 0,
  "metadata": {
    "colab": {
      "provenance": []
    },
    "kernelspec": {
      "name": "python3",
      "display_name": "Python 3"
    },
    "language_info": {
      "name": "python"
    }
  },
  "cells": [
    {
      "cell_type": "code",
      "execution_count": 9,
      "metadata": {
        "colab": {
          "base_uri": "https://localhost:8080/"
        },
        "id": "B61k8T8Ziywp",
        "outputId": "115c499c-2a6f-447f-a94f-13da1047539f"
      },
      "outputs": [
        {
          "output_type": "stream",
          "name": "stdout",
          "text": [
            "Player X moves:\n",
            "  |   |  \n",
            "---------\n",
            "  |   | X\n",
            "---------\n",
            "  |   |  \n",
            "\n",
            "Player O moves:\n",
            "  | O |  \n",
            "---------\n",
            "  |   | X\n",
            "---------\n",
            "  |   |  \n",
            "\n",
            "Player X moves:\n",
            "  | O | X\n",
            "---------\n",
            "  |   | X\n",
            "---------\n",
            "  |   |  \n",
            "\n",
            "Player O moves:\n",
            "  | O | X\n",
            "---------\n",
            "O |   | X\n",
            "---------\n",
            "  |   |  \n",
            "\n",
            "Player X moves:\n",
            "  | O | X\n",
            "---------\n",
            "O |   | X\n",
            "---------\n",
            "  |   | X\n",
            "\n",
            "Player X wins!\n"
          ]
        }
      ],
      "source": [
        "import random\n",
        "\n",
        "def create_board():\n",
        "    # Create a 3x3 board with empty spaces\n",
        "    return [[\" \" for _ in range(3)] for _ in range(3)]\n",
        "\n",
        "def print_board(board):\n",
        "    # Print the board in a clear format\n",
        "    for i in range(3):\n",
        "        print(\" | \".join(board[i]))\n",
        "        if i < 2:\n",
        "            print(\"-\" * 9)\n",
        "    print()\n",
        "\n",
        "def available_moves(board):\n",
        "    # Return a list of empty positions as (row, col) tuples\n",
        "    moves = []\n",
        "    for i in range(3):\n",
        "        for j in range(3):\n",
        "            if board[i][j] == \" \":\n",
        "                moves.append((i, j))\n",
        "    return moves\n",
        "\n",
        "def check_win(board, player):\n",
        "    # Check rows and columns\n",
        "    for i in range(3):\n",
        "        if all(cell == player for cell in board[i]):\n",
        "            return True\n",
        "        if all(board[r][i] == player for r in range(3)):\n",
        "            return True\n",
        "    # Check both diagonals\n",
        "    if board[0][0] == player and board[1][1] == player and board[2][2] == player:\n",
        "        return True\n",
        "    if board[0][2] == player and board[1][1] == player and board[2][0] == player:\n",
        "        return True\n",
        "    return False\n",
        "\n",
        "def play_game():\n",
        "    board = create_board()\n",
        "    current_player = \"X\"  # Player X starts\n",
        "    while True:\n",
        "        moves = available_moves(board)\n",
        "        if not moves:\n",
        "            print(\"It's a tie!\")\n",
        "            break\n",
        "\n",
        "        # Choose a random move for the current player\n",
        "        move = random.choice(moves)\n",
        "        board[move[0]][move[1]] = current_player\n",
        "        print(f\"Player {current_player} moves:\")\n",
        "        print_board(board)\n",
        "\n",
        "        # Check for a win\n",
        "        if check_win(board, current_player):\n",
        "            print(f\"Player {current_player} wins!\")\n",
        "            break\n",
        "\n",
        "        # Switch player\n",
        "        current_player = \"O\" if current_player == \"X\" else \"X\"\n",
        "\n",
        "play_game()\n"
      ]
    }
  ]
}